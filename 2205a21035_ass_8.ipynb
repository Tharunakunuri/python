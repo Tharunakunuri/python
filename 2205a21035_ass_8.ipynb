{
  "nbformat": 4,
  "nbformat_minor": 0,
  "metadata": {
    "colab": {
      "provenance": [],
      "authorship_tag": "ABX9TyN+M3V6Kz+iClPlWHX/2uNZ",
      "include_colab_link": true
    },
    "kernelspec": {
      "name": "python3",
      "display_name": "Python 3"
    },
    "language_info": {
      "name": "python"
    }
  },
  "cells": [
    {
      "cell_type": "markdown",
      "metadata": {
        "id": "view-in-github",
        "colab_type": "text"
      },
      "source": [
        "<a href=\"https://colab.research.google.com/github/Tharunakunuri/python/blob/main/2205a21035_ass_8.ipynb\" target=\"_parent\"><img src=\"https://colab.research.google.com/assets/colab-badge.svg\" alt=\"Open In Colab\"/></a>"
      ]
    },
    {
      "cell_type": "code",
      "execution_count": 1,
      "metadata": {
        "colab": {
          "base_uri": "https://localhost:8080/"
        },
        "id": "8kk-eTzggnHi",
        "outputId": "d9c7d21c-5c5c-441b-d216-ac00a9b12f96"
      },
      "outputs": [
        {
          "output_type": "stream",
          "name": "stdout",
          "text": [
            "Qualification= ['venkat', 'B.Tech', 2006, 'Μ.Ε.', 2011, 'Ph.D', 2018]\n",
            "Experience= ['SSCE', 2007, 'infosys', '2011', 'ΑΙΤΑΜ', '2013', 'SREC', '2018']\n",
            "CA= ['venkat', 'B.Tech', 2006, 'Μ.Ε.', 2011, 'Ph.D', 2018, 'SSCE', 2007, 'infosys', '2011', 'ΑΙΤΑΜ', '2013', 'SREC', '2018']\n"
          ]
        }
      ],
      "source": [
        "Qualification=['venkat', 'B.Tech', 2006, 'Μ.Ε.', 2011, 'Ph.D', 2018]\n",
        "\n",
        "Experience=['SSCE', 2007, 'infosys', '2011', 'ΑΙΤΑΜ', '2013', 'SREC', '2018']\n",
        "\n",
        "CA=Qualification+Experience\n",
        "\n",
        "print(\"Qualification=\", Qualification)\n",
        "\n",
        "print(\"Experience=\", Experience)\n",
        "\n",
        "print(\"CA=\", CA)"
      ]
    },
    {
      "cell_type": "code",
      "source": [
        "Qualification=['venkat', 'B.Tech', 2006, 'M.E.', 2011, 'Ph.D', 2018]\n",
        "\n",
        "print(Qualification)\n",
        "\n",
        "print(Qualification[0])\n",
        "\n",
        "print(Qualification[1:])\n",
        "\n",
        "print(Qualification[1:5])\n",
        "\n",
        "print(Qualification *2)\n",
        "\n",
        "print(Qualification[::-1])"
      ],
      "metadata": {
        "colab": {
          "base_uri": "https://localhost:8080/"
        },
        "id": "srA6YAG_jtc8",
        "outputId": "b5e11d3f-2b71-4032-83dd-5ad06a888290"
      },
      "execution_count": 2,
      "outputs": [
        {
          "output_type": "stream",
          "name": "stdout",
          "text": [
            "['venkat', 'B.Tech', 2006, 'M.E.', 2011, 'Ph.D', 2018]\n",
            "venkat\n",
            "['B.Tech', 2006, 'M.E.', 2011, 'Ph.D', 2018]\n",
            "['B.Tech', 2006, 'M.E.', 2011]\n",
            "['venkat', 'B.Tech', 2006, 'M.E.', 2011, 'Ph.D', 2018, 'venkat', 'B.Tech', 2006, 'M.E.', 2011, 'Ph.D', 2018]\n",
            "[2018, 'Ph.D', 2011, 'M.E.', 2006, 'B.Tech', 'venkat']\n"
          ]
        }
      ]
    },
    {
      "cell_type": "code",
      "source": [
        "\n",
        "list=['venkat', '1985']\n",
        "\n",
        "print('Venkat birth year', list[1])\n",
        "\n",
        "list[0]='dev'\n",
        "\n",
        "list[1]=2017\n",
        "\n",
        "print('dev birth year', list[1])"
      ],
      "metadata": {
        "colab": {
          "base_uri": "https://localhost:8080/"
        },
        "id": "Ci0Wcmfdj24r",
        "outputId": "ee9f6c15-4d4f-4659-b5c9-d9d4952a11e8"
      },
      "execution_count": 3,
      "outputs": [
        {
          "output_type": "stream",
          "name": "stdout",
          "text": [
            "Venkat birth year 1985\n",
            "dev birth year 2017\n"
          ]
        }
      ]
    },
    {
      "cell_type": "markdown",
      "source": [],
      "metadata": {
        "id": "EHp6O-2UjRHL"
      }
    }
  ]
}